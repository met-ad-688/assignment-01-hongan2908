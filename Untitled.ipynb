{
 "cells": [
  {
   "cell_type": "code",
   "execution_count": null,
   "id": "b0865fa0-6978-4e3d-99d9-dd9a152153ce",
   "metadata": {},
   "outputs": [],
   "source": [
    "import pandas as pd\n",
    "\n",
    "# Load the CSV files\n",
    "files = [\"file1.csv\", \"file2.csv\"]  # Replace with actual file names\n",
    "count = 0\n",
    "\n",
    "for file in files:\n",
    "    df = pd.read_csv(file)\n",
    "    count += df.apply(lambda row: row.astype(str).str.contains(\"GitHub\", case=False).any(), axis=1).sum()\n",
    "\n",
    "print(f\"Total lines containing 'GitHub': {count}\")\n",
    "\n",
    "\n",
    "\n",
    "\n",
    "\n",
    "\n"
   ]
  }
 ],
 "metadata": {
  "kernelspec": {
   "display_name": "Python (myenv)",
   "language": "python",
   "name": "myenv"
  },
  "language_info": {
   "codemirror_mode": {
    "name": "ipython",
    "version": 3
   },
   "file_extension": ".py",
   "mimetype": "text/x-python",
   "name": "python",
   "nbconvert_exporter": "python",
   "pygments_lexer": "ipython3",
   "version": "3.12.3"
  }
 },
 "nbformat": 4,
 "nbformat_minor": 5
}
